{
 "cells": [
  {
   "cell_type": "markdown",
   "id": "95198574-79fd-4ac6-89db-ed67d4812b8e",
   "metadata": {},
   "source": []
  },
  {
   "cell_type": "markdown",
   "id": "41df3be3-9aa2-48f6-89e5-088353ec908b",
   "metadata": {},
   "source": [
    "<h1>\n",
    "    DriveThruDigest:\n",
    "    </h1>\n",
    "<h2>\n",
    "    Navigating the Caloric Landscape\n",
    "    </h2>\n",
    "    <p>\n",
    "    We are gathering our data from kaggle's API. We are using the <a href=\"https://www.kaggle.com/datasets/joebeachcapital/fast-food\">Fast Food Nutrition</a> dataset. Running all in this notebook will produce the needed csv for this analysis.\n",
    "    </p>"
   ]
  },
  {
   "cell_type": "markdown",
   "id": "75c8a2c3-6de6-40b3-8417-c7a023309438",
   "metadata": {},
   "source": [
    "# Imports "
   ]
  },
  {
   "cell_type": "code",
   "execution_count": 1,
   "id": "8b5aab41-50ec-4ec2-860f-ca33078f0fb9",
   "metadata": {
    "tags": []
   },
   "outputs": [],
   "source": [
    "import pandas as pd \n",
    "import os\n",
    "from kaggle.api.kaggle_api_extended import KaggleApi"
   ]
  },
  {
   "cell_type": "code",
   "execution_count": 2,
   "id": "dd187754-f843-4f8b-8cb1-08384e8921f1",
   "metadata": {
    "tags": []
   },
   "outputs": [],
   "source": [
    "if not os.path.exists(os.path.join(os.path.expanduser(\"~\"), \".kaggle/kaggle.json\")):\n",
    "    raise ValueError(\"Ensure you have set up your Kaggle API token at ~/.kaggle/kaggle.json\")\n",
    "\n",
    "\n",
    "api = KaggleApi()\n",
    "api.authenticate()"
   ]
  },
  {
   "cell_type": "code",
   "execution_count": 3,
   "id": "c1628ced-08ea-4959-985b-f134e85d7518",
   "metadata": {
    "tags": []
   },
   "outputs": [],
   "source": [
    "dataset_path = \"joebeachcapital/fast-food\"\n",
    "api.dataset_download_files(dataset_path, path='./', unzip=True)"
   ]
  },
  {
   "cell_type": "markdown",
   "id": "7833d02e-d128-4dff-bb35-8265e2da80b1",
   "metadata": {},
   "source": [
    "<h2>\n",
    "    "
   ]
  }
 ],
 "metadata": {
  "kernelspec": {
   "display_name": "Python 3 (ipykernel)",
   "language": "python",
   "name": "python3"
  },
  "language_info": {
   "codemirror_mode": {
    "name": "ipython",
    "version": 3
   },
   "file_extension": ".py",
   "mimetype": "text/x-python",
   "name": "python",
   "nbconvert_exporter": "python",
   "pygments_lexer": "ipython3",
   "version": "3.11.3"
  }
 },
 "nbformat": 4,
 "nbformat_minor": 5
}
