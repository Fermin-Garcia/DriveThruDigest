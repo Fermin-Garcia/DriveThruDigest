{
 "cells": [
  {
   "cell_type": "code",
   "execution_count": 53,
   "id": "0347d242-14fd-4bba-9248-7da1df720519",
   "metadata": {
    "tags": []
   },
   "outputs": [
    {
     "data": {
      "text/html": [
       "<link rel=\"stylesheet\" href=\"./css/styles.css\">\n"
      ],
      "text/plain": [
       "<IPython.core.display.HTML object>"
      ]
     },
     "metadata": {},
     "output_type": "display_data"
    }
   ],
   "source": [
    "%%html\n",
    "<link rel=\"stylesheet\" href=\"./css/styles.css\">"
   ]
  },
  {
   "cell_type": "markdown",
   "id": "c7288c29-374f-45ca-8ad8-3bb71cc15153",
   "metadata": {
    "tags": []
   },
   "source": [
    "<div id='introduction' class='my-background'>\n",
    "    <h1>\n",
    "        DriveThruDigest:\n",
    "    </h1>\n",
    "    <h2>\n",
    "        Navigating the Caloric Landscape\n",
    "    </h2>\n",
    "    <p>\n",
    "    Here we are analyzing the dataset and looking for anything weird. Weird as in duplicates, null values and empty strings.\n",
    "    </p>\n",
    "</div>"
   ]
  },
  {
   "cell_type": "markdown",
   "id": "adc41e3d-909f-462c-85d9-cb951b2dd435",
   "metadata": {
    "tags": []
   },
   "source": [
    "<div class= work_area>\n",
    "    <h1>\n",
    "        Imports\n",
    "    </h1>\n",
    "</div>"
   ]
  },
  {
   "cell_type": "code",
   "execution_count": 34,
   "id": "c610b69e-4d35-41a4-822b-44d5458f4b5f",
   "metadata": {
    "tags": []
   },
   "outputs": [],
   "source": [
    "import pandas as pd\n",
    "import numpy as np\n",
    "import matplotlib.pyplot as plt "
   ]
  },
  {
   "cell_type": "markdown",
   "id": "8eb12cdd-628d-422c-afd1-6c2d82f0989a",
   "metadata": {},
   "source": [
    "<div class='work_area'>\n",
    "        <h1>\n",
    "        Importing our dataset\n",
    "        </h1>\n",
    "</div>"
   ]
  },
  {
   "cell_type": "code",
   "execution_count": 2,
   "id": "6714f1ee-856c-4829-bceb-64c731912ca7",
   "metadata": {
    "tags": []
   },
   "outputs": [],
   "source": [
    "data = pd.read_csv('FastFoodNutritionMenu.csv')"
   ]
  },
  {
   "cell_type": "markdown",
   "id": "3f8d68fd-b984-44d3-af86-d833aae0aec4",
   "metadata": {},
   "source": [
    "<div class='work_area'>\n",
    "    <h1>\n",
    "        Checking for null Values!\n",
    "        </h1>\n",
    "    <h3>\n",
    "        Here we are ensuring the values are complete! \n",
    "    </h3>\n",
    " </div>"
   ]
  },
  {
   "cell_type": "code",
   "execution_count": 3,
   "id": "a08b2c80-ba0d-4940-bd91-3183ae9c73e1",
   "metadata": {},
   "outputs": [
    {
     "data": {
      "text/plain": [
       "Company                   0.000000\n",
       "Item                      0.000000\n",
       "Calories                  0.172563\n",
       "Calories from\\nFat        5.263158\n",
       "Total Fat\\n(g)            5.004314\n",
       "Saturated Fat\\n(g)        5.004314\n",
       "Trans Fat\\n(g)            5.004314\n",
       "Cholesterol\\n(mg)         0.172563\n",
       "Sodium \\n(mg)             0.172563\n",
       "Carbs\\n(g)                5.004314\n",
       "Fiber\\n(g)                5.004314\n",
       "Sugars\\n(g)               0.172563\n",
       "Protein\\n(g)             11.389129\n",
       "Weight Watchers\\nPnts    54.788611\n",
       "dtype: float64"
      ]
     },
     "execution_count": 3,
     "metadata": {},
     "output_type": "execute_result"
    }
   ],
   "source": [
    "(data.isna().sum() /len(data)) * 100"
   ]
  },
  {
   "cell_type": "code",
   "execution_count": 4,
   "id": "69d85117-f652-4bf3-94de-b6d4c9bb9baf",
   "metadata": {
    "tags": []
   },
   "outputs": [
    {
     "data": {
      "text/html": [
       "<div>\n",
       "<style scoped>\n",
       "    .dataframe tbody tr th:only-of-type {\n",
       "        vertical-align: middle;\n",
       "    }\n",
       "\n",
       "    .dataframe tbody tr th {\n",
       "        vertical-align: top;\n",
       "    }\n",
       "\n",
       "    .dataframe thead th {\n",
       "        text-align: right;\n",
       "    }\n",
       "</style>\n",
       "<table border=\"1\" class=\"dataframe\">\n",
       "  <thead>\n",
       "    <tr style=\"text-align: right;\">\n",
       "      <th></th>\n",
       "      <th>Company</th>\n",
       "      <th>Item</th>\n",
       "      <th>Calories</th>\n",
       "      <th>Calories from\\nFat</th>\n",
       "      <th>Total Fat\\n(g)</th>\n",
       "      <th>Saturated Fat\\n(g)</th>\n",
       "      <th>Trans Fat\\n(g)</th>\n",
       "      <th>Cholesterol\\n(mg)</th>\n",
       "      <th>Sodium \\n(mg)</th>\n",
       "      <th>Carbs\\n(g)</th>\n",
       "      <th>Fiber\\n(g)</th>\n",
       "      <th>Sugars\\n(g)</th>\n",
       "      <th>Protein\\n(g)</th>\n",
       "      <th>Weight Watchers\\nPnts</th>\n",
       "    </tr>\n",
       "  </thead>\n",
       "  <tbody>\n",
       "    <tr>\n",
       "      <th>64</th>\n",
       "      <td>McDonald’s</td>\n",
       "      <td>Salad Dressings</td>\n",
       "      <td>NaN</td>\n",
       "      <td>NaN</td>\n",
       "      <td>NaN</td>\n",
       "      <td>NaN</td>\n",
       "      <td>NaN</td>\n",
       "      <td>NaN</td>\n",
       "      <td>NaN</td>\n",
       "      <td>NaN</td>\n",
       "      <td>NaN</td>\n",
       "      <td>NaN</td>\n",
       "      <td>NaN</td>\n",
       "      <td>NaN</td>\n",
       "    </tr>\n",
       "    <tr>\n",
       "      <th>102</th>\n",
       "      <td>McDonald’s</td>\n",
       "      <td>Hamburger Happy Meal</td>\n",
       "      <td>475</td>\n",
       "      <td>NaN</td>\n",
       "      <td>16</td>\n",
       "      <td>5.5 g</td>\n",
       "      <td>0</td>\n",
       "      <td>40</td>\n",
       "      <td>690</td>\n",
       "      <td>62</td>\n",
       "      <td>2</td>\n",
       "      <td>20</td>\n",
       "      <td>22</td>\n",
       "      <td>NaN</td>\n",
       "    </tr>\n",
       "    <tr>\n",
       "      <th>103</th>\n",
       "      <td>McDonald’s</td>\n",
       "      <td>4 Piece Chicken McNuggets Happy Meal</td>\n",
       "      <td>395</td>\n",
       "      <td>NaN</td>\n",
       "      <td>17</td>\n",
       "      <td>3.5</td>\n",
       "      <td>0</td>\n",
       "      <td>35</td>\n",
       "      <td>510</td>\n",
       "      <td>41</td>\n",
       "      <td>1</td>\n",
       "      <td>14</td>\n",
       "      <td>19</td>\n",
       "      <td>NaN</td>\n",
       "    </tr>\n",
       "    <tr>\n",
       "      <th>104</th>\n",
       "      <td>McDonald’s</td>\n",
       "      <td>6 Piece Chicken McNuggets® Happy Meal</td>\n",
       "      <td>475</td>\n",
       "      <td>NaN</td>\n",
       "      <td>22</td>\n",
       "      <td>4.5</td>\n",
       "      <td>0</td>\n",
       "      <td>50</td>\n",
       "      <td>680</td>\n",
       "      <td>46</td>\n",
       "      <td>2</td>\n",
       "      <td>14</td>\n",
       "      <td>24</td>\n",
       "      <td>NaN</td>\n",
       "    </tr>\n",
       "    <tr>\n",
       "      <th>259</th>\n",
       "      <td>McDonald’s</td>\n",
       "      <td>McCafe Coffees – Whole Milk</td>\n",
       "      <td>NaN</td>\n",
       "      <td>NaN</td>\n",
       "      <td>NaN</td>\n",
       "      <td>NaN</td>\n",
       "      <td>NaN</td>\n",
       "      <td>NaN</td>\n",
       "      <td>NaN</td>\n",
       "      <td>NaN</td>\n",
       "      <td>NaN</td>\n",
       "      <td>NaN</td>\n",
       "      <td>NaN</td>\n",
       "      <td>NaN</td>\n",
       "    </tr>\n",
       "  </tbody>\n",
       "</table>\n",
       "</div>"
      ],
      "text/plain": [
       "        Company                                   Item Calories  \\\n",
       "64   McDonald’s                        Salad Dressings      NaN   \n",
       "102  McDonald’s                   Hamburger Happy Meal      475   \n",
       "103  McDonald’s   4 Piece Chicken McNuggets Happy Meal      395   \n",
       "104  McDonald’s  6 Piece Chicken McNuggets® Happy Meal      475   \n",
       "259  McDonald’s            McCafe Coffees – Whole Milk      NaN   \n",
       "\n",
       "    Calories from\\nFat Total Fat\\n(g) Saturated Fat\\n(g) Trans Fat\\n(g)  \\\n",
       "64                 NaN            NaN                NaN            NaN   \n",
       "102                NaN             16              5.5 g              0   \n",
       "103                NaN             17                3.5              0   \n",
       "104                NaN             22                4.5              0   \n",
       "259                NaN            NaN                NaN            NaN   \n",
       "\n",
       "    Cholesterol\\n(mg) Sodium \\n(mg) Carbs\\n(g) Fiber\\n(g) Sugars\\n(g)  \\\n",
       "64                NaN           NaN        NaN        NaN         NaN   \n",
       "102                40           690         62          2          20   \n",
       "103                35           510         41          1          14   \n",
       "104                50           680         46          2          14   \n",
       "259               NaN           NaN        NaN        NaN         NaN   \n",
       "\n",
       "    Protein\\n(g) Weight Watchers\\nPnts  \n",
       "64           NaN                   NaN  \n",
       "102           22                   NaN  \n",
       "103           19                   NaN  \n",
       "104           24                   NaN  \n",
       "259          NaN                   NaN  "
      ]
     },
     "execution_count": 4,
     "metadata": {},
     "output_type": "execute_result"
    }
   ],
   "source": [
    "data[data.isna().any(axis=1)].head()"
   ]
  },
  {
   "cell_type": "markdown",
   "id": "6476e9e5-67e9-4fe6-a3fb-a05dd1a220bf",
   "metadata": {},
   "source": [
    "<div class= 'work_area'>\n",
    "    <p>\n",
    "    After looking at most of the null values, I can see some of the null values should actually be repersented by a zero and not a null. Another observation that i've made is the column named Weight watcher points this column is not relevant for our research. We are strictly looking at the nutritional facts for each item so we will replace the nulls to repersent zeros and drop the Weight watcher points.\n",
    "    </p>\n",
    "</div>"
   ]
  },
  {
   "cell_type": "code",
   "execution_count": 5,
   "id": "c31c6466-b084-454d-8ec0-cdb811f6f1f4",
   "metadata": {
    "tags": []
   },
   "outputs": [],
   "source": [
    "data.drop(columns= 'Weight Watchers\\nPnts',inplace=True)"
   ]
  },
  {
   "cell_type": "code",
   "execution_count": 6,
   "id": "7aee28bb-c0bb-4713-a9e8-a8f2b39c6988",
   "metadata": {
    "tags": []
   },
   "outputs": [],
   "source": [
    "data.replace({np.NAN: 0}, inplace=True)"
   ]
  },
  {
   "cell_type": "markdown",
   "id": "43e0ca3d-65f3-4dac-bf79-0baa46020606",
   "metadata": {},
   "source": [
    "# Dropping Duplicates"
   ]
  },
  {
   "cell_type": "code",
   "execution_count": 7,
   "id": "617279f6-a164-4046-9e5a-7e67e428a7f5",
   "metadata": {
    "tags": []
   },
   "outputs": [],
   "source": [
    "data.drop_duplicates(inplace=True)"
   ]
  },
  {
   "cell_type": "code",
   "execution_count": 54,
   "id": "fc8ae73e-7763-4d32-b61f-c027d04d5534",
   "metadata": {
    "tags": []
   },
   "outputs": [
    {
     "data": {
      "text/html": [
       "<div>\n",
       "<style scoped>\n",
       "    .dataframe tbody tr th:only-of-type {\n",
       "        vertical-align: middle;\n",
       "    }\n",
       "\n",
       "    .dataframe tbody tr th {\n",
       "        vertical-align: top;\n",
       "    }\n",
       "\n",
       "    .dataframe thead th {\n",
       "        text-align: right;\n",
       "    }\n",
       "</style>\n",
       "<table border=\"1\" class=\"dataframe\">\n",
       "  <thead>\n",
       "    <tr style=\"text-align: right;\">\n",
       "      <th></th>\n",
       "      <th>Company</th>\n",
       "      <th>Item</th>\n",
       "      <th>Calories</th>\n",
       "      <th>Calories from\\nFat</th>\n",
       "      <th>Total Fat\\n(g)</th>\n",
       "      <th>Saturated Fat\\n(g)</th>\n",
       "      <th>Trans Fat\\n(g)</th>\n",
       "      <th>Cholesterol\\n(mg)</th>\n",
       "      <th>Sodium \\n(mg)</th>\n",
       "      <th>Carbs\\n(g)</th>\n",
       "      <th>Fiber\\n(g)</th>\n",
       "      <th>Sugars\\n(g)</th>\n",
       "      <th>Protein\\n(g)</th>\n",
       "    </tr>\n",
       "  </thead>\n",
       "  <tbody>\n",
       "    <tr>\n",
       "      <th>0</th>\n",
       "      <td>McDonald’s</td>\n",
       "      <td>Hamburger</td>\n",
       "      <td>250</td>\n",
       "      <td>80</td>\n",
       "      <td>9</td>\n",
       "      <td>3.5</td>\n",
       "      <td>0.5</td>\n",
       "      <td>25</td>\n",
       "      <td>520</td>\n",
       "      <td>31</td>\n",
       "      <td>2</td>\n",
       "      <td>6</td>\n",
       "      <td>12</td>\n",
       "    </tr>\n",
       "    <tr>\n",
       "      <th>1</th>\n",
       "      <td>McDonald’s</td>\n",
       "      <td>Cheeseburger</td>\n",
       "      <td>300</td>\n",
       "      <td>110</td>\n",
       "      <td>12</td>\n",
       "      <td>6</td>\n",
       "      <td>0.5</td>\n",
       "      <td>40</td>\n",
       "      <td>750</td>\n",
       "      <td>33</td>\n",
       "      <td>2</td>\n",
       "      <td>6</td>\n",
       "      <td>15</td>\n",
       "    </tr>\n",
       "    <tr>\n",
       "      <th>2</th>\n",
       "      <td>McDonald’s</td>\n",
       "      <td>Double Cheeseburger</td>\n",
       "      <td>440</td>\n",
       "      <td>210</td>\n",
       "      <td>23</td>\n",
       "      <td>11</td>\n",
       "      <td>1.5</td>\n",
       "      <td>80</td>\n",
       "      <td>1150</td>\n",
       "      <td>34</td>\n",
       "      <td>2</td>\n",
       "      <td>7</td>\n",
       "      <td>25</td>\n",
       "    </tr>\n",
       "    <tr>\n",
       "      <th>3</th>\n",
       "      <td>McDonald’s</td>\n",
       "      <td>McDouble</td>\n",
       "      <td>390</td>\n",
       "      <td>170</td>\n",
       "      <td>19</td>\n",
       "      <td>8</td>\n",
       "      <td>1</td>\n",
       "      <td>65</td>\n",
       "      <td>920</td>\n",
       "      <td>33</td>\n",
       "      <td>2</td>\n",
       "      <td>7</td>\n",
       "      <td>22</td>\n",
       "    </tr>\n",
       "    <tr>\n",
       "      <th>4</th>\n",
       "      <td>McDonald’s</td>\n",
       "      <td>Quarter Pounder® with Cheese</td>\n",
       "      <td>510</td>\n",
       "      <td>230</td>\n",
       "      <td>26</td>\n",
       "      <td>12</td>\n",
       "      <td>1.5</td>\n",
       "      <td>90</td>\n",
       "      <td>1190</td>\n",
       "      <td>40</td>\n",
       "      <td>3</td>\n",
       "      <td>9</td>\n",
       "      <td>29</td>\n",
       "    </tr>\n",
       "  </tbody>\n",
       "</table>\n",
       "</div>"
      ],
      "text/plain": [
       "      Company                           Item Calories Calories from\\nFat  \\\n",
       "0  McDonald’s                      Hamburger      250                 80   \n",
       "1  McDonald’s                   Cheeseburger      300                110   \n",
       "2  McDonald’s            Double Cheeseburger      440                210   \n",
       "3  McDonald’s                       McDouble      390                170   \n",
       "4  McDonald’s   Quarter Pounder® with Cheese      510                230   \n",
       "\n",
       "  Total Fat\\n(g) Saturated Fat\\n(g) Trans Fat\\n(g) Cholesterol\\n(mg)  \\\n",
       "0              9                3.5            0.5                25   \n",
       "1             12                  6            0.5                40   \n",
       "2             23                 11            1.5                80   \n",
       "3             19                  8              1                65   \n",
       "4             26                 12            1.5                90   \n",
       "\n",
       "  Sodium \\n(mg) Carbs\\n(g) Fiber\\n(g) Sugars\\n(g) Protein\\n(g)  \n",
       "0           520         31          2           6           12  \n",
       "1           750         33          2           6           15  \n",
       "2          1150         34          2           7           25  \n",
       "3           920         33          2           7           22  \n",
       "4          1190         40          3           9           29  "
      ]
     },
     "execution_count": 54,
     "metadata": {},
     "output_type": "execute_result"
    }
   ],
   "source": [
    "data.head()"
   ]
  },
  {
   "cell_type": "code",
   "execution_count": null,
   "id": "655a76e3-947c-402d-8299-57324f68f0f5",
   "metadata": {},
   "outputs": [],
   "source": [
    "data.to_csv('prepared csvs')"
   ]
  }
 ],
 "metadata": {
  "kernelspec": {
   "display_name": "Python 3 (ipykernel)",
   "language": "python",
   "name": "python3"
  },
  "language_info": {
   "codemirror_mode": {
    "name": "ipython",
    "version": 3
   },
   "file_extension": ".py",
   "mimetype": "text/x-python",
   "name": "python",
   "nbconvert_exporter": "python",
   "pygments_lexer": "ipython3",
   "version": "3.11.3"
  }
 },
 "nbformat": 4,
 "nbformat_minor": 5
}
